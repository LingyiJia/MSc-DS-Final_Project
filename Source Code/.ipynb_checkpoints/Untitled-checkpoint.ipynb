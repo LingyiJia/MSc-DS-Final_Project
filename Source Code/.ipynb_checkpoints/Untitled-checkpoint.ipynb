{
 "cells": [
  {
   "cell_type": "code",
   "execution_count": 1,
   "metadata": {},
   "outputs": [
    {
     "name": "stdout",
     "output_type": "stream",
     "text": [
      "           Mixed Linear Model Regression Results\n",
      "===========================================================\n",
      "Model:             MixedLM  Dependent Variable:  Weight    \n",
      "No. Observations:  861      Method:              REML      \n",
      "No. Groups:        72       Scale:               6.0372    \n",
      "Min. group size:   11       Log-Likelihood:      -2217.0475\n",
      "Max. group size:   12       Converged:           Yes       \n",
      "Mean group size:   12.0                                    \n",
      "-----------------------------------------------------------\n",
      "                 Coef.  Std.Err.   z    P>|z| [0.025 0.975]\n",
      "-----------------------------------------------------------\n",
      "Intercept        15.739    0.550 28.603 0.000 14.660 16.817\n",
      "Time              6.939    0.080 86.925 0.000  6.783  7.095\n",
      "Group Var        19.503    1.561                           \n",
      "Group x Time Cov  0.294    0.153                           \n",
      "Time Var          0.416    0.033                           \n",
      "===========================================================\n",
      "\n"
     ]
    }
   ],
   "source": [
    "# Install Statsmodels\n",
    "# Adapted from https://www.statsmodels.org/stable/examples/notebooks/generated/mixed_lm_example.html\n",
    "!pip install -q statsmodels\n",
    "\n",
    "# Load packages\n",
    "import numpy as np\n",
    "import pandas as pd\n",
    "import statsmodels.api as sm\n",
    "import statsmodels.formula.api as smf\n",
    "\n",
    "# Load dataset\n",
    "data = sm.datasets.get_rdataset('dietox', 'geepack').data\n",
    "\n",
    "# Run LMER\n",
    "md = smf.mixedlm(\"Weight ~ Time\", data, groups=data[\"Pig\"], re_formula=\"~Time\")\n",
    "mdf = md.fit(method=[\"lbfgs\"])\n",
    "print(mdf.summary())"
   ]
  },
  {
   "cell_type": "code",
   "execution_count": 2,
   "metadata": {},
   "outputs": [
    {
     "name": "stdout",
     "output_type": "stream",
     "text": [
      "Requirement already satisfied: rbase in d:\\lingyi\\mysoftware\\anaconda3\\lib\\site-packages (0.1.3)\n",
      "Requirement already satisfied: redis in d:\\lingyi\\mysoftware\\anaconda3\\lib\\site-packages (from rbase) (4.0.2)\n",
      "Requirement already satisfied: deprecated in d:\\lingyi\\mysoftware\\anaconda3\\lib\\site-packages (from redis->rbase) (1.2.13)\n",
      "Requirement already satisfied: wrapt<2,>=1.10 in d:\\lingyi\\mysoftware\\anaconda3\\lib\\site-packages (from deprecated->redis->rbase) (1.11.2)\n"
     ]
    },
    {
     "name": "stderr",
     "output_type": "stream",
     "text": [
      "R[write to console]: Warning in (function (pkgs, lib, repos = getOption(\"repos\"), contriburl = contrib.url(repos,  :\n",
      "R[write to console]: \n",
      " \n",
      "R[write to console]:  'lib = \"C:/Program Files/R/R-4.1.2/library\"' is not writable\n",
      "\n"
     ]
    },
    {
     "name": "stdout",
     "output_type": "stream",
     "text": [
      "Would you like to use a personal library instead? (yes/No/cancel) yes\n",
      "Would you like to create a personal library\n",
      "'C:\\Program Files\\R\\R-4.1.2\\R\\win-library\\4.1'\n",
      "to install packages into? (yes/No/cancel) yes\n"
     ]
    },
    {
     "name": "stderr",
     "output_type": "stream",
     "text": [
      "R[write to console]: Error in (function (pkgs, lib, repos = getOption(\"repos\"), contriburl = contrib.url(repos,  : \n",
      "  unable to create 'C:\\Program Files\\R\\R-4.1.2\\R\\win-library\\4.1'\n",
      "\n",
      "R[write to console]: In addition: \n",
      "R[write to console]: Warning message:\n",
      "\n",
      "R[write to console]: In dir.create(userdir, recursive = TRUE) :\n",
      "R[write to console]: \n",
      " \n",
      "R[write to console]:  cannot create dir 'C:\\Program Files\\R\\R-4.1.2\\R', reason 'Permission denied'\n",
      "\n"
     ]
    },
    {
     "ename": "RRuntimeError",
     "evalue": "Error in (function (pkgs, lib, repos = getOption(\"repos\"), contriburl = contrib.url(repos,  : \n  unable to create 'C:\\Program Files\\R\\R-4.1.2\\R\\win-library\\4.1'\n",
     "output_type": "error",
     "traceback": [
      "\u001b[1;31m---------------------------------------------------------------------------\u001b[0m",
      "\u001b[1;31mRRuntimeError\u001b[0m                             Traceback (most recent call last)",
      "\u001b[1;32m<ipython-input-2-ab6248084d55>\u001b[0m in \u001b[0;36m<module>\u001b[1;34m\u001b[0m\n\u001b[0;32m      9\u001b[0m \u001b[0mutils\u001b[0m \u001b[1;33m=\u001b[0m \u001b[0mimportr\u001b[0m\u001b[1;33m(\u001b[0m\u001b[1;34m\"utils\"\u001b[0m\u001b[1;33m)\u001b[0m\u001b[1;33m\u001b[0m\u001b[1;33m\u001b[0m\u001b[0m\n\u001b[0;32m     10\u001b[0m \u001b[0mutils\u001b[0m\u001b[1;33m.\u001b[0m\u001b[0mchooseCRANmirror\u001b[0m\u001b[1;33m(\u001b[0m\u001b[0mind\u001b[0m\u001b[1;33m=\u001b[0m\u001b[1;36m1\u001b[0m\u001b[1;33m)\u001b[0m\u001b[1;33m\u001b[0m\u001b[1;33m\u001b[0m\u001b[0m\n\u001b[1;32m---> 11\u001b[1;33m \u001b[0mutils\u001b[0m\u001b[1;33m.\u001b[0m\u001b[0minstall_packages\u001b[0m\u001b[1;33m(\u001b[0m\u001b[0mStrVector\u001b[0m\u001b[1;33m(\u001b[0m\u001b[0mpacknames\u001b[0m\u001b[1;33m)\u001b[0m\u001b[1;33m)\u001b[0m\u001b[1;33m\u001b[0m\u001b[1;33m\u001b[0m\u001b[0m\n\u001b[0m",
      "\u001b[1;32mD:\\Lingyi\\Mysoftware\\Anaconda3\\lib\\site-packages\\rpy2\\robjects\\functions.py\u001b[0m in \u001b[0;36m__call__\u001b[1;34m(self, *args, **kwargs)\u001b[0m\n\u001b[0;32m    196\u001b[0m                 \u001b[0mv\u001b[0m \u001b[1;33m=\u001b[0m \u001b[0mkwargs\u001b[0m\u001b[1;33m.\u001b[0m\u001b[0mpop\u001b[0m\u001b[1;33m(\u001b[0m\u001b[0mk\u001b[0m\u001b[1;33m)\u001b[0m\u001b[1;33m\u001b[0m\u001b[1;33m\u001b[0m\u001b[0m\n\u001b[0;32m    197\u001b[0m                 \u001b[0mkwargs\u001b[0m\u001b[1;33m[\u001b[0m\u001b[0mr_k\u001b[0m\u001b[1;33m]\u001b[0m \u001b[1;33m=\u001b[0m \u001b[0mv\u001b[0m\u001b[1;33m\u001b[0m\u001b[1;33m\u001b[0m\u001b[0m\n\u001b[1;32m--> 198\u001b[1;33m         return (super(SignatureTranslatedFunction, self)\n\u001b[0m\u001b[0;32m    199\u001b[0m                 .__call__(*args, **kwargs))\n\u001b[0;32m    200\u001b[0m \u001b[1;33m\u001b[0m\u001b[0m\n",
      "\u001b[1;32mD:\\Lingyi\\Mysoftware\\Anaconda3\\lib\\site-packages\\rpy2\\robjects\\functions.py\u001b[0m in \u001b[0;36m__call__\u001b[1;34m(self, *args, **kwargs)\u001b[0m\n\u001b[0;32m    123\u001b[0m             \u001b[1;32melse\u001b[0m\u001b[1;33m:\u001b[0m\u001b[1;33m\u001b[0m\u001b[1;33m\u001b[0m\u001b[0m\n\u001b[0;32m    124\u001b[0m                 \u001b[0mnew_kwargs\u001b[0m\u001b[1;33m[\u001b[0m\u001b[0mk\u001b[0m\u001b[1;33m]\u001b[0m \u001b[1;33m=\u001b[0m \u001b[0mconversion\u001b[0m\u001b[1;33m.\u001b[0m\u001b[0mpy2rpy\u001b[0m\u001b[1;33m(\u001b[0m\u001b[0mv\u001b[0m\u001b[1;33m)\u001b[0m\u001b[1;33m\u001b[0m\u001b[1;33m\u001b[0m\u001b[0m\n\u001b[1;32m--> 125\u001b[1;33m         \u001b[0mres\u001b[0m \u001b[1;33m=\u001b[0m \u001b[0msuper\u001b[0m\u001b[1;33m(\u001b[0m\u001b[0mFunction\u001b[0m\u001b[1;33m,\u001b[0m \u001b[0mself\u001b[0m\u001b[1;33m)\u001b[0m\u001b[1;33m.\u001b[0m\u001b[0m__call__\u001b[0m\u001b[1;33m(\u001b[0m\u001b[1;33m*\u001b[0m\u001b[0mnew_args\u001b[0m\u001b[1;33m,\u001b[0m \u001b[1;33m**\u001b[0m\u001b[0mnew_kwargs\u001b[0m\u001b[1;33m)\u001b[0m\u001b[1;33m\u001b[0m\u001b[1;33m\u001b[0m\u001b[0m\n\u001b[0m\u001b[0;32m    126\u001b[0m         \u001b[0mres\u001b[0m \u001b[1;33m=\u001b[0m \u001b[0mconversion\u001b[0m\u001b[1;33m.\u001b[0m\u001b[0mrpy2py\u001b[0m\u001b[1;33m(\u001b[0m\u001b[0mres\u001b[0m\u001b[1;33m)\u001b[0m\u001b[1;33m\u001b[0m\u001b[1;33m\u001b[0m\u001b[0m\n\u001b[0;32m    127\u001b[0m         \u001b[1;32mreturn\u001b[0m \u001b[0mres\u001b[0m\u001b[1;33m\u001b[0m\u001b[1;33m\u001b[0m\u001b[0m\n",
      "\u001b[1;32mD:\\Lingyi\\Mysoftware\\Anaconda3\\lib\\site-packages\\rpy2\\rinterface_lib\\conversion.py\u001b[0m in \u001b[0;36m_\u001b[1;34m(*args, **kwargs)\u001b[0m\n\u001b[0;32m     43\u001b[0m \u001b[1;32mdef\u001b[0m \u001b[0m_cdata_res_to_rinterface\u001b[0m\u001b[1;33m(\u001b[0m\u001b[0mfunction\u001b[0m\u001b[1;33m)\u001b[0m\u001b[1;33m:\u001b[0m\u001b[1;33m\u001b[0m\u001b[1;33m\u001b[0m\u001b[0m\n\u001b[0;32m     44\u001b[0m     \u001b[1;32mdef\u001b[0m \u001b[0m_\u001b[0m\u001b[1;33m(\u001b[0m\u001b[1;33m*\u001b[0m\u001b[0margs\u001b[0m\u001b[1;33m,\u001b[0m \u001b[1;33m**\u001b[0m\u001b[0mkwargs\u001b[0m\u001b[1;33m)\u001b[0m\u001b[1;33m:\u001b[0m\u001b[1;33m\u001b[0m\u001b[1;33m\u001b[0m\u001b[0m\n\u001b[1;32m---> 45\u001b[1;33m         \u001b[0mcdata\u001b[0m \u001b[1;33m=\u001b[0m \u001b[0mfunction\u001b[0m\u001b[1;33m(\u001b[0m\u001b[1;33m*\u001b[0m\u001b[0margs\u001b[0m\u001b[1;33m,\u001b[0m \u001b[1;33m**\u001b[0m\u001b[0mkwargs\u001b[0m\u001b[1;33m)\u001b[0m\u001b[1;33m\u001b[0m\u001b[1;33m\u001b[0m\u001b[0m\n\u001b[0m\u001b[0;32m     46\u001b[0m         \u001b[1;31m# TODO: test cdata is of the expected CType\u001b[0m\u001b[1;33m\u001b[0m\u001b[1;33m\u001b[0m\u001b[1;33m\u001b[0m\u001b[0m\n\u001b[0;32m     47\u001b[0m         \u001b[1;32mreturn\u001b[0m \u001b[0m_cdata_to_rinterface\u001b[0m\u001b[1;33m(\u001b[0m\u001b[0mcdata\u001b[0m\u001b[1;33m)\u001b[0m\u001b[1;33m\u001b[0m\u001b[1;33m\u001b[0m\u001b[0m\n",
      "\u001b[1;32mD:\\Lingyi\\Mysoftware\\Anaconda3\\lib\\site-packages\\rpy2\\rinterface.py\u001b[0m in \u001b[0;36m__call__\u001b[1;34m(self, *args, **kwargs)\u001b[0m\n\u001b[0;32m    678\u001b[0m             )\n\u001b[0;32m    679\u001b[0m             \u001b[1;32mif\u001b[0m \u001b[0merror_occured\u001b[0m\u001b[1;33m[\u001b[0m\u001b[1;36m0\u001b[0m\u001b[1;33m]\u001b[0m\u001b[1;33m:\u001b[0m\u001b[1;33m\u001b[0m\u001b[1;33m\u001b[0m\u001b[0m\n\u001b[1;32m--> 680\u001b[1;33m                 \u001b[1;32mraise\u001b[0m \u001b[0membedded\u001b[0m\u001b[1;33m.\u001b[0m\u001b[0mRRuntimeError\u001b[0m\u001b[1;33m(\u001b[0m\u001b[0m_rinterface\u001b[0m\u001b[1;33m.\u001b[0m\u001b[0m_geterrmessage\u001b[0m\u001b[1;33m(\u001b[0m\u001b[1;33m)\u001b[0m\u001b[1;33m)\u001b[0m\u001b[1;33m\u001b[0m\u001b[1;33m\u001b[0m\u001b[0m\n\u001b[0m\u001b[0;32m    681\u001b[0m         \u001b[1;32mreturn\u001b[0m \u001b[0mres\u001b[0m\u001b[1;33m\u001b[0m\u001b[1;33m\u001b[0m\u001b[0m\n\u001b[0;32m    682\u001b[0m \u001b[1;33m\u001b[0m\u001b[0m\n",
      "\u001b[1;31mRRuntimeError\u001b[0m: Error in (function (pkgs, lib, repos = getOption(\"repos\"), contriburl = contrib.url(repos,  : \n  unable to create 'C:\\Program Files\\R\\R-4.1.2\\R\\win-library\\4.1'\n"
     ]
    }
   ],
   "source": [
    "# Install R and Rpy2\n",
    "!pip install rbase\n",
    "!pip install -q rpy2\n",
    "\n",
    "# Install LMER packages (THIS TAKES ABOUT 3~5 minutes)\n",
    "packnames = ('lme4', 'lmerTest', 'emmeans', \"geepack\")\n",
    "from rpy2.robjects.packages import importr\n",
    "from rpy2.robjects.vectors import StrVector\n",
    "utils = importr(\"utils\")\n",
    "utils.chooseCRANmirror(ind=1)\n",
    "utils.install_packages(StrVector(packnames))"
   ]
  },
  {
   "cell_type": "code",
   "execution_count": null,
   "metadata": {},
   "outputs": [],
   "source": [
    "%load_ext rpy2.ipython"
   ]
  },
  {
   "cell_type": "code",
   "execution_count": null,
   "metadata": {},
   "outputs": [],
   "source": []
  },
  {
   "cell_type": "code",
   "execution_count": null,
   "metadata": {},
   "outputs": [],
   "source": []
  },
  {
   "cell_type": "code",
   "execution_count": null,
   "metadata": {},
   "outputs": [],
   "source": []
  },
  {
   "cell_type": "code",
   "execution_count": null,
   "metadata": {},
   "outputs": [],
   "source": [
    "%%R \n",
    "# load LMER libraries\n",
    "library(lme4)\n",
    "library(lmerTest)\n",
    "# load dataset in R\n",
    "data(dietox, package='geepack')\n",
    "# LMER model in R\n",
    "m<-lmer('Weight ~ Time + (1+Time|Pig)', data=dietox)\n",
    "print(summary(m))"
   ]
  },
  {
   "cell_type": "code",
   "execution_count": null,
   "metadata": {},
   "outputs": [],
   "source": [
    "%%R -i data -o betas\n",
    "# Load data from Python into R\n",
    "m<-lmer('Weight ~ Time + (1|Pig)', data=data)\n",
    "print(summary(m))\n",
    "betas <- fixef(m)"
   ]
  },
  {
   "cell_type": "code",
   "execution_count": null,
   "metadata": {},
   "outputs": [],
   "source": [
    "betas"
   ]
  },
  {
   "cell_type": "code",
   "execution_count": null,
   "metadata": {},
   "outputs": [],
   "source": [
    "%%R -i data\n",
    "# Specify Evit as a factor and set a polynomial contrast.\n",
    "data$Evit <- as.factor(data$Evit)\n",
    "contrasts(data$Evit) <- contr.poly \n",
    "m<-lmer('Weight ~ Time * Evit + (1|Pig)', data=data)\n",
    "print(summary(m))"
   ]
  },
  {
   "cell_type": "code",
   "execution_count": null,
   "metadata": {},
   "outputs": [],
   "source": [
    "%%R -i data\n",
    "data$Evit <- as.factor(data$Evit)\n",
    "m<-lmer('Weight ~ Time * relevel(Evit, ref=\"Evit100\") + (1|Pig)', data=data)\n",
    "print(summary(m))"
   ]
  },
  {
   "cell_type": "code",
   "execution_count": null,
   "metadata": {},
   "outputs": [],
   "source": [
    "\"\"\"pymer4 is down due to recent updates in rpy2. \n",
    "It's necessary to install via source until this issue is resolved. \n",
    "\"\"\"\n",
    "!git clone https://github.com/ejolly/pymer4.git\n",
    "!cd pymer4 && git pull origin dev && git checkout dev && pip install -q ."
   ]
  },
  {
   "cell_type": "code",
   "execution_count": null,
   "metadata": {},
   "outputs": [],
   "source": [
    "# Install pymer4\n",
    "!pip install -q pymer4\n",
    "# load pymer4\n",
    "from pymer4.models import Lmer\n",
    "model = Lmer('Weight ~ Time + Evit + (1 + Time|Pig)', data=data)\n",
    "display(model.fit())\n",
    "# ANOVA results from fitted model\n",
    "display(model.anova())\n",
    "# Plot estimated model coefficients \n",
    "model.plot_summary()"
   ]
  },
  {
   "cell_type": "code",
   "execution_count": null,
   "metadata": {},
   "outputs": [],
   "source": [
    "model1=Lmer('merged') "
   ]
  },
  {
   "cell_type": "code",
   "execution_count": null,
   "metadata": {},
   "outputs": [],
   "source": [
    "import numpy as np\n",
    "import pandas as pd"
   ]
  },
  {
   "cell_type": "code",
   "execution_count": null,
   "metadata": {},
   "outputs": [],
   "source": [
    "data= pd.read_csv(\"new_pullreq.csv\")\n",
    "data"
   ]
  },
  {
   "cell_type": "code",
   "execution_count": null,
   "metadata": {},
   "outputs": [],
   "source": [
    "display(data.head())\n",
    "display(data.dtypes)"
   ]
  },
  {
   "cell_type": "code",
   "execution_count": null,
   "metadata": {},
   "outputs": [],
   "source": [
    "#display characters\n",
    "i=0\n",
    "for col in data.columns:\n",
    "    print(i,col)\n",
    "    i+=1"
   ]
  },
  {
   "cell_type": "code",
   "execution_count": null,
   "metadata": {},
   "outputs": [],
   "source": [
    "merged_or_not = data[['test_inclusion']]\n",
    "print(merged_or_not)\n",
    "type(merged_or_not)"
   ]
  },
  {
   "cell_type": "code",
   "execution_count": null,
   "metadata": {},
   "outputs": [],
   "source": [
    "project_id = data[['project_id']]\n",
    "#object\n",
    "merged_or_not = data[['merged_or_not']]\n",
    "\n",
    "#size of change\n",
    "churn_addition = data[['churn_addition']]\n",
    "churn_deletion = data[['churn_deletion']]\n",
    "\n",
    "#Complexity\n",
    "description_length = data[['description_length']]\n",
    "\n",
    "#nature of pull request\n",
    "bug_fix = data[['bug_fix']]\n",
    "\n",
    "#test inclusion\n",
    "test_inclusion = data[['test_inclusion']]\n",
    "\n",
    "#reference of a contributor,issue or pr\n",
    "hash_tag = data[['hash_tag']]\n",
    "at_tag = data[['at_tag']]\n",
    "\n",
    "#Conflict\n",
    "comment_conflict = data[['comment_conflict']]\n",
    "\n",
    "#Hotness or Relevance\n",
    "pr_comment_num = data[['pr_comment_num']]\n",
    "part_num_issue = data[['part_num_issue']]\n",
    "part_num_commit = data[['part_num_commit']]\n",
    "part_num_pr = data[['part_num_pr']]\n",
    "part_num_code = data[['part_num_code']]\n",
    "\n",
    "#Emotions\n",
    "perc_inte_neg_emo = data[['perc_inte_neg_emo']]\n",
    "perc_inte_pos_emo = data[['perc_inte_pos_emo']]\n",
    "perc_inte_neu_emo = data[['perc_inte_neu_emo']]\n",
    "\n",
    "#Continuous Integration\n",
    "ci_exists = data[['ci_exists']]\n",
    "ci_latency = data[['ci_latency']]\n",
    "ci_build_num = data[['ci_build_num']]\n",
    "ci_test_passed = data[['ci_test_passed']]\n",
    "ci_failed_perc = data[['ci_failed_perc']]\n",
    "ci_first_build_status = data[['ci_first_build_status']]\n",
    "ci_last_build_status = data[['ci_last_build_status']]"
   ]
  },
  {
   "cell_type": "code",
   "execution_count": null,
   "metadata": {},
   "outputs": [],
   "source": [
    "model = Lmer('merged_or_not+churn_addition+churn_deletion+bug_fix+test_inclusion+hash_tag+at_tag+comment_conflict+pr_comment_num+part_num_issue+part_num_commit+part_num_pr+part_num_code+perc_inte_neg_emo+perc_inte_pos_emo+perc_inte_neu_emo+ci_exists+ci_latency+ci_build_num+ci_test_passed+ci_failed_perc+ci_first_build_status+ci_last_build_status+(1|project_id)',data=data)"
   ]
  },
  {
   "cell_type": "code",
   "execution_count": null,
   "metadata": {},
   "outputs": [],
   "source": [
    "display(model.fit())"
   ]
  },
  {
   "cell_type": "code",
   "execution_count": null,
   "metadata": {},
   "outputs": [],
   "source": [
    "display(model.anova)"
   ]
  },
  {
   "cell_type": "code",
   "execution_count": null,
   "metadata": {},
   "outputs": [],
   "source": [
    "model.plot_summary()"
   ]
  },
  {
   "cell_type": "code",
   "execution_count": null,
   "metadata": {},
   "outputs": [],
   "source": []
  }
 ],
 "metadata": {
  "kernelspec": {
   "display_name": "Python 3",
   "language": "python",
   "name": "python3"
  },
  "language_info": {
   "codemirror_mode": {
    "name": "ipython",
    "version": 3
   },
   "file_extension": ".py",
   "mimetype": "text/x-python",
   "name": "python",
   "nbconvert_exporter": "python",
   "pygments_lexer": "ipython3",
   "version": "3.8.5"
  }
 },
 "nbformat": 4,
 "nbformat_minor": 4
}
